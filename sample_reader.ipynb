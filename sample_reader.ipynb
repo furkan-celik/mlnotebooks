{
 "metadata": {
  "language_info": {
   "codemirror_mode": {
    "name": "ipython",
    "version": 3
   },
   "file_extension": ".py",
   "mimetype": "text/x-python",
   "name": "python",
   "nbconvert_exporter": "python",
   "pygments_lexer": "ipython3",
   "version": "3.6.6-final"
  },
  "orig_nbformat": 2,
  "kernelspec": {
   "name": "python3",
   "display_name": "Python 3.6.6 64-bit",
   "metadata": {
    "interpreter": {
     "hash": "2e5c6628eef985e7fd2fa2aad22c988c5b8aa1d2648cf9c51c543a2a2637c546"
    }
   }
  }
 },
 "nbformat": 4,
 "nbformat_minor": 2,
 "cells": [
  {
   "cell_type": "code",
   "execution_count": 2,
   "metadata": {},
   "outputs": [],
   "source": [
    "import pandas as pd\n",
    "\n",
    "datas = pd.read_pickle(\"3_SamplesFromACE.pkl\")"
   ]
  },
  {
   "cell_type": "code",
   "execution_count": 38,
   "metadata": {},
   "outputs": [],
   "source": [
    "SAMPLE_INDEX = 0"
   ]
  },
  {
   "cell_type": "code",
   "execution_count": 39,
   "metadata": {},
   "outputs": [
    {
     "output_type": "stream",
     "name": "stdout",
     "text": [
      "\n AFP_ENG_20030607.0030 \n NEWS STORY \n 20030607 \n\nIndia's bachelor PM, president making country \"dry, arid, infertile\"\n\n\nNEW DELHI, June 7 (AFP)\n\nA provincial chief from India's main opposition Congress party has\ntold an election rally that India is suffering nature's \"curse\"\nbecause both the president and prime minister are bachelors, a report\nsaid Saturday.\n\nThe Times of India newspaper quoted Digvijay Singh, chief minister of\nthe central Indian state of Madhya Pradesh, as saying that Prime\nMinister Atal Behari Vajpayee and President Abdul Kalam had offended\nthe Hindu rain God Varuna by remaining bachelors.\n\n\"The country is being ruled by a bachelor president and an unmarried\nprime minister. This according to the Hindu shastras (books) is very\ninauspicious and that is the reason there is a widespread heatwave\nand drought,\" said Singh.\n\n\"Not just Prime Minister Vajpayee but President Kalam's bachelor\nstatus is making the country dry, arid and infertile,\" he added.\n\nThe general secretary of Vajpayee's ruling Bharatiya Janata Party,\nPramod Mahajan, retorted that Singh's statement was \"beneath\ncontempt.\"\n\nIndia's has been reeling under a heatwave since mid-May which has\nkilled 1,403 people. The country's western desert state of Rajasthan\nis also bracing for its fifth straight year of drought.\n\n\n\n"
     ]
    }
   ],
   "source": [
    "print(datas[SAMPLE_INDEX][\"RAW_TEXT\"])"
   ]
  },
  {
   "cell_type": "code",
   "execution_count": 40,
   "metadata": {},
   "outputs": [
    {
     "output_type": "stream",
     "name": "stdout",
     "text": [
      "Event ID:  AFP_ENG_20030607.0030-EV1\nEvent Type.Subtype:  Life.Die\nModality:  Asserted\nPolarity:  Positive\nGenericity:  Specific\nTense:  Past\nEvent Mentions in text: \n\tText:  killed\n\tArguments: \n\t\tArgument Type:  Victim\n\t\tArgument Text:  1,403 people\n\t\tArgument Type:  Place\n\t\tArgument Text:  India\n\t\tArgument Type:  Time-Starting\n\t\tArgument Text:  mid-May\n"
     ]
    }
   ],
   "source": [
    "for event in datas[SAMPLE_INDEX][\"EVENTS\"]:\n",
    "    print(\"Event ID: \", event[\"ID\"])\n",
    "    print(\"Event Type.Subtype: \", event[\"TYPE\"] + \".\" + event[\"SUBTYPE\"])\n",
    "    print(\"Modality: \", event[\"MODALITY\"])\n",
    "    print(\"Polarity: \", event[\"POLARITY\"])\n",
    "    print(\"Genericity: \", event[\"GENERICITY\"])\n",
    "    print(\"Tense: \", event[\"TENSE\"])\n",
    "    print(\"Event Mentions in text: \")\n",
    "    for mention in event[\"MENTIONS\"]:\n",
    "        if mention == None or mention[\"ARGUMENTS\"] == None:\n",
    "            continue\n",
    "\n",
    "        print(\"\\tText: \", mention[\"TEXT\"])\n",
    "        print(\"\\tArguments: \")\n",
    "        \n",
    "        if type(mention[\"ARGUMENTS\"]) == type({}):\n",
    "            mention[\"ARGUMENTS\"] = [mention[\"ARGUMENTS\"]]\n",
    "\n",
    "        for i in range(len(mention[\"ARGUMENTS\"])):\n",
    "            for k in mention[\"ARGUMENTS\"][i].keys():\n",
    "                arg = mention[\"ARGUMENTS\"][i][k]\n",
    "                print(\"\\t\\tArgument Type: \", arg[\"role\"])\n",
    "                print(\"\\t\\tArgument Text: \", arg[\"text\"])"
   ]
  }
 ]
}